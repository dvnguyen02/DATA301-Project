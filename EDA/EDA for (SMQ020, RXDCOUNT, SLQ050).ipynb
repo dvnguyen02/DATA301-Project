{
 "cells": [
  {
   "cell_type": "code",
   "execution_count": 108,
   "id": "00996db7",
   "metadata": {},
   "outputs": [],
   "source": [
    "import pandas as pd\n",
    "import numpy as np\n",
    "import matplotlib.pyplot as plt\n",
    "import seaborn as sns\n",
    "from scipy import stats\n",
    "from matplotlib.colors import LinearSegmentedColormap\n",
    "import matplotlib.patches as mpatches\n",
    "%matplotlib inline"
   ]
  },
  {
   "cell_type": "code",
   "execution_count": 109,
   "id": "a44ae7da",
   "metadata": {
    "scrolled": true
   },
   "outputs": [
    {
     "data": {
      "text/html": [
       "<div>\n",
       "<style scoped>\n",
       "    .dataframe tbody tr th:only-of-type {\n",
       "        vertical-align: middle;\n",
       "    }\n",
       "\n",
       "    .dataframe tbody tr th {\n",
       "        vertical-align: top;\n",
       "    }\n",
       "\n",
       "    .dataframe thead th {\n",
       "        text-align: right;\n",
       "    }\n",
       "</style>\n",
       "<table border=\"1\" class=\"dataframe\">\n",
       "  <thead>\n",
       "    <tr style=\"text-align: right;\">\n",
       "      <th></th>\n",
       "      <th>SEQN</th>\n",
       "      <th>RIAGENDR</th>\n",
       "      <th>RIDAGEYR</th>\n",
       "      <th>RIDRETH3</th>\n",
       "      <th>INDFMPIR</th>\n",
       "      <th>DMDEDUC2</th>\n",
       "      <th>DMDMARTZ</th>\n",
       "      <th>DBQ095Z</th>\n",
       "      <th>DBD100</th>\n",
       "      <th>DRQSPREP</th>\n",
       "      <th>...</th>\n",
       "      <th>DR1TP183</th>\n",
       "      <th>DR1TP184</th>\n",
       "      <th>DR1TP204</th>\n",
       "      <th>DR1TP205</th>\n",
       "      <th>DR1TP225</th>\n",
       "      <th>DR1TP226</th>\n",
       "      <th>DR1_320Z</th>\n",
       "      <th>DR1_330Z</th>\n",
       "      <th>DR1BWATZ</th>\n",
       "      <th>DR1TWSZ</th>\n",
       "    </tr>\n",
       "  </thead>\n",
       "  <tbody>\n",
       "    <tr>\n",
       "      <th>0</th>\n",
       "      <td>109266</td>\n",
       "      <td>2</td>\n",
       "      <td>29</td>\n",
       "      <td>6</td>\n",
       "      <td>5.00</td>\n",
       "      <td>5</td>\n",
       "      <td>3</td>\n",
       "      <td>1.0</td>\n",
       "      <td>1.0</td>\n",
       "      <td>4.0</td>\n",
       "      <td>...</td>\n",
       "      <td>1.423</td>\n",
       "      <td>0.000</td>\n",
       "      <td>0.028</td>\n",
       "      <td>0.004</td>\n",
       "      <td>0.007</td>\n",
       "      <td>0.000</td>\n",
       "      <td>2268.9</td>\n",
       "      <td>2268.9</td>\n",
       "      <td>0.0</td>\n",
       "      <td>1.0</td>\n",
       "    </tr>\n",
       "    <tr>\n",
       "      <th>1</th>\n",
       "      <td>109271</td>\n",
       "      <td>1</td>\n",
       "      <td>49</td>\n",
       "      <td>3</td>\n",
       "      <td>NaN</td>\n",
       "      <td>2</td>\n",
       "      <td>3</td>\n",
       "      <td>1.0</td>\n",
       "      <td>2.0</td>\n",
       "      <td>1.0</td>\n",
       "      <td>...</td>\n",
       "      <td>2.115</td>\n",
       "      <td>0.001</td>\n",
       "      <td>0.172</td>\n",
       "      <td>0.011</td>\n",
       "      <td>0.026</td>\n",
       "      <td>0.003</td>\n",
       "      <td>0.0</td>\n",
       "      <td>0.0</td>\n",
       "      <td>0.0</td>\n",
       "      <td>1.0</td>\n",
       "    </tr>\n",
       "    <tr>\n",
       "      <th>2</th>\n",
       "      <td>109271</td>\n",
       "      <td>1</td>\n",
       "      <td>49</td>\n",
       "      <td>3</td>\n",
       "      <td>NaN</td>\n",
       "      <td>2</td>\n",
       "      <td>3</td>\n",
       "      <td>1.0</td>\n",
       "      <td>2.0</td>\n",
       "      <td>1.0</td>\n",
       "      <td>...</td>\n",
       "      <td>2.115</td>\n",
       "      <td>0.001</td>\n",
       "      <td>0.172</td>\n",
       "      <td>0.011</td>\n",
       "      <td>0.026</td>\n",
       "      <td>0.003</td>\n",
       "      <td>0.0</td>\n",
       "      <td>0.0</td>\n",
       "      <td>0.0</td>\n",
       "      <td>1.0</td>\n",
       "    </tr>\n",
       "    <tr>\n",
       "      <th>3</th>\n",
       "      <td>109271</td>\n",
       "      <td>1</td>\n",
       "      <td>49</td>\n",
       "      <td>3</td>\n",
       "      <td>NaN</td>\n",
       "      <td>2</td>\n",
       "      <td>3</td>\n",
       "      <td>1.0</td>\n",
       "      <td>2.0</td>\n",
       "      <td>1.0</td>\n",
       "      <td>...</td>\n",
       "      <td>2.115</td>\n",
       "      <td>0.001</td>\n",
       "      <td>0.172</td>\n",
       "      <td>0.011</td>\n",
       "      <td>0.026</td>\n",
       "      <td>0.003</td>\n",
       "      <td>0.0</td>\n",
       "      <td>0.0</td>\n",
       "      <td>0.0</td>\n",
       "      <td>1.0</td>\n",
       "    </tr>\n",
       "    <tr>\n",
       "      <th>4</th>\n",
       "      <td>109273</td>\n",
       "      <td>1</td>\n",
       "      <td>36</td>\n",
       "      <td>3</td>\n",
       "      <td>0.83</td>\n",
       "      <td>4</td>\n",
       "      <td>3</td>\n",
       "      <td>4.0</td>\n",
       "      <td>NaN</td>\n",
       "      <td>2.0</td>\n",
       "      <td>...</td>\n",
       "      <td>0.328</td>\n",
       "      <td>0.000</td>\n",
       "      <td>0.114</td>\n",
       "      <td>0.005</td>\n",
       "      <td>0.016</td>\n",
       "      <td>0.005</td>\n",
       "      <td>0.0</td>\n",
       "      <td>0.0</td>\n",
       "      <td>0.0</td>\n",
       "      <td>91.0</td>\n",
       "    </tr>\n",
       "  </tbody>\n",
       "</table>\n",
       "<p>5 rows × 146 columns</p>\n",
       "</div>"
      ],
      "text/plain": [
       "     SEQN  RIAGENDR  RIDAGEYR  RIDRETH3  INDFMPIR  DMDEDUC2  DMDMARTZ  \\\n",
       "0  109266         2        29         6      5.00         5         3   \n",
       "1  109271         1        49         3       NaN         2         3   \n",
       "2  109271         1        49         3       NaN         2         3   \n",
       "3  109271         1        49         3       NaN         2         3   \n",
       "4  109273         1        36         3      0.83         4         3   \n",
       "\n",
       "   DBQ095Z  DBD100  DRQSPREP  ...  DR1TP183  DR1TP184  DR1TP204  DR1TP205  \\\n",
       "0      1.0     1.0       4.0  ...     1.423     0.000     0.028     0.004   \n",
       "1      1.0     2.0       1.0  ...     2.115     0.001     0.172     0.011   \n",
       "2      1.0     2.0       1.0  ...     2.115     0.001     0.172     0.011   \n",
       "3      1.0     2.0       1.0  ...     2.115     0.001     0.172     0.011   \n",
       "4      4.0     NaN       2.0  ...     0.328     0.000     0.114     0.005   \n",
       "\n",
       "   DR1TP225  DR1TP226  DR1_320Z  DR1_330Z  DR1BWATZ  DR1TWSZ  \n",
       "0     0.007     0.000    2268.9    2268.9       0.0      1.0  \n",
       "1     0.026     0.003       0.0       0.0       0.0      1.0  \n",
       "2     0.026     0.003       0.0       0.0       0.0      1.0  \n",
       "3     0.026     0.003       0.0       0.0       0.0      1.0  \n",
       "4     0.016     0.005       0.0       0.0       0.0     91.0  \n",
       "\n",
       "[5 rows x 146 columns]"
      ]
     },
     "execution_count": 109,
     "metadata": {},
     "output_type": "execute_result"
    }
   ],
   "source": [
    "#df = pd.read_csv(\"../data/merged_data_clean.csv\")\n",
    "df = pd.read_csv(\"Data/merged_data_clean.csv\")\n",
    "df.head()"
   ]
  },
  {
   "cell_type": "code",
   "execution_count": 110,
   "id": "93f07246",
   "metadata": {},
   "outputs": [
    {
     "name": "stdout",
     "output_type": "stream",
     "text": [
      "category\n",
      "category\n"
     ]
    }
   ],
   "source": [
    "df[\"KIQ026\"] = df[\"KIQ026\"].astype('category')\n",
    "df[\"SMQ020\"] = df[\"SMQ020\"].astype('category')\n",
    "print(df[\"SMQ020\"].dtypes)\n",
    "print(df[\"KIQ026\"].dtypes)"
   ]
  },
  {
   "cell_type": "code",
   "execution_count": 111,
   "id": "70bc5a2b",
   "metadata": {},
   "outputs": [
    {
     "data": {
      "text/html": [
       "<div>\n",
       "<style scoped>\n",
       "    .dataframe tbody tr th:only-of-type {\n",
       "        vertical-align: middle;\n",
       "    }\n",
       "\n",
       "    .dataframe tbody tr th {\n",
       "        vertical-align: top;\n",
       "    }\n",
       "\n",
       "    .dataframe thead th {\n",
       "        text-align: right;\n",
       "    }\n",
       "</style>\n",
       "<table border=\"1\" class=\"dataframe\">\n",
       "  <thead>\n",
       "    <tr style=\"text-align: right;\">\n",
       "      <th></th>\n",
       "      <th>SMQ020</th>\n",
       "      <th>KIQ026</th>\n",
       "    </tr>\n",
       "  </thead>\n",
       "  <tbody>\n",
       "    <tr>\n",
       "      <th>0</th>\n",
       "      <td>2</td>\n",
       "      <td>2</td>\n",
       "    </tr>\n",
       "    <tr>\n",
       "      <th>1</th>\n",
       "      <td>1</td>\n",
       "      <td>2</td>\n",
       "    </tr>\n",
       "    <tr>\n",
       "      <th>2</th>\n",
       "      <td>1</td>\n",
       "      <td>2</td>\n",
       "    </tr>\n",
       "    <tr>\n",
       "      <th>3</th>\n",
       "      <td>1</td>\n",
       "      <td>2</td>\n",
       "    </tr>\n",
       "    <tr>\n",
       "      <th>4</th>\n",
       "      <td>1</td>\n",
       "      <td>2</td>\n",
       "    </tr>\n",
       "    <tr>\n",
       "      <th>...</th>\n",
       "      <td>...</td>\n",
       "      <td>...</td>\n",
       "    </tr>\n",
       "    <tr>\n",
       "      <th>57433</th>\n",
       "      <td>1</td>\n",
       "      <td>2</td>\n",
       "    </tr>\n",
       "    <tr>\n",
       "      <th>57434</th>\n",
       "      <td>1</td>\n",
       "      <td>2</td>\n",
       "    </tr>\n",
       "    <tr>\n",
       "      <th>57435</th>\n",
       "      <td>2</td>\n",
       "      <td>2</td>\n",
       "    </tr>\n",
       "    <tr>\n",
       "      <th>57436</th>\n",
       "      <td>1</td>\n",
       "      <td>2</td>\n",
       "    </tr>\n",
       "    <tr>\n",
       "      <th>57437</th>\n",
       "      <td>1</td>\n",
       "      <td>1</td>\n",
       "    </tr>\n",
       "  </tbody>\n",
       "</table>\n",
       "<p>57438 rows × 2 columns</p>\n",
       "</div>"
      ],
      "text/plain": [
       "      SMQ020 KIQ026\n",
       "0          2      2\n",
       "1          1      2\n",
       "2          1      2\n",
       "3          1      2\n",
       "4          1      2\n",
       "...      ...    ...\n",
       "57433      1      2\n",
       "57434      1      2\n",
       "57435      2      2\n",
       "57436      1      2\n",
       "57437      1      1\n",
       "\n",
       "[57438 rows x 2 columns]"
      ]
     },
     "execution_count": 111,
     "metadata": {},
     "output_type": "execute_result"
    }
   ],
   "source": [
    "smoke_rate_df = df[[\"SMQ020\",\"KIQ026\"]]\n",
    "smoke_rate_df"
   ]
  },
  {
   "cell_type": "code",
   "execution_count": 112,
   "id": "e2088c2f",
   "metadata": {},
   "outputs": [
    {
     "name": "stderr",
     "output_type": "stream",
     "text": [
      "C:\\Users\\tnguy\\AppData\\Local\\Temp\\ipykernel_25304\\1031919263.py:1: SettingWithCopyWarning: \n",
      "A value is trying to be set on a copy of a slice from a DataFrame.\n",
      "Try using .loc[row_indexer,col_indexer] = value instead\n",
      "\n",
      "See the caveats in the documentation: https://pandas.pydata.org/pandas-docs/stable/user_guide/indexing.html#returning-a-view-versus-a-copy\n",
      "  smoke_rate_df[\"SMQ020\"] = df[\"SMQ020\"].map({1: \"Yes\", 2: \"No\", 7: \"Refused\", 9:\"Don't know\"})\n",
      "C:\\Users\\tnguy\\AppData\\Local\\Temp\\ipykernel_25304\\1031919263.py:2: SettingWithCopyWarning: \n",
      "A value is trying to be set on a copy of a slice from a DataFrame.\n",
      "Try using .loc[row_indexer,col_indexer] = value instead\n",
      "\n",
      "See the caveats in the documentation: https://pandas.pydata.org/pandas-docs/stable/user_guide/indexing.html#returning-a-view-versus-a-copy\n",
      "  smoke_rate_df[\"KIQ026\"] = df[\"KIQ026\"].map({1: \"Yes\", 2: \"No\"})\n"
     ]
    },
    {
     "data": {
      "image/png": "[encoded data removed]",
      "text/plain": [
       "<Figure size 432x288 with 1 Axes>"
      ]
     },
     "metadata": {
      "needs_background": "light"
     },
     "output_type": "display_data"
    }
   ],
   "source": [
    "smoke_rate_df[\"SMQ020\"] = df[\"SMQ020\"].map({1: \"Yes\", 2: \"No\", 7: \"Refused\", 9:\"Don't know\"})\n",
    "smoke_rate_df[\"KIQ026\"] = df[\"KIQ026\"].map({1: \"Yes\", 2: \"No\"})\n",
    "\n",
    "cross_tab = pd.crosstab(smoke_rate_df[\"SMQ020\"], smoke_rate_df[\"KIQ026\"], normalize='index')\n",
    "cross_tab.plot(kind='bar', stacked=False)\n",
    "\n",
    "plt.title(\"The proportion of Kidney stones for each description for Smoked at least 100 cigarettes in life\")\n",
    "plt.xlabel(\"Smoked at least 100 cigarettes in life\")\n",
    "plt.ylabel(\"Proportion of Kidney Stones\")\n",
    "plt.legend(title=\"Kidney Stones\")\n",
    "plt.show()\n",
    "\n"
   ]
  },
  {
   "cell_type": "code",
   "execution_count": 113,
   "id": "2a6b75b6",
   "metadata": {},
   "outputs": [
    {
     "data": {
      "text/plain": [
       "RXDCOUNT     float64\n",
       "KIQ026      category\n",
       "dtype: object"
      ]
     },
     "execution_count": 113,
     "metadata": {},
     "output_type": "execute_result"
    }
   ],
   "source": [
    "Prescription_Medications = df[[\"RXDCOUNT\",\"KIQ026\"]]\n",
    "Prescription_Medications\n",
    "Prescription_Medications.dtypes"
   ]
  },
  {
   "cell_type": "code",
   "execution_count": 114,
   "id": "2ff49d51",
   "metadata": {},
   "outputs": [
    {
     "name": "stderr",
     "output_type": "stream",
     "text": [
      "C:\\Users\\tnguy\\AppData\\Local\\Temp\\ipykernel_25304\\3172392956.py:1: SettingWithCopyWarning: \n",
      "A value is trying to be set on a copy of a slice from a DataFrame.\n",
      "Try using .loc[row_indexer,col_indexer] = value instead\n",
      "\n",
      "See the caveats in the documentation: https://pandas.pydata.org/pandas-docs/stable/user_guide/indexing.html#returning-a-view-versus-a-copy\n",
      "  Prescription_Medications[\"KIQ026\"] = df[\"KIQ026\"].map({1: \"Yes\", 2: \"No\"})\n"
     ]
    }
   ],
   "source": [
    "Prescription_Medications[\"KIQ026\"] = df[\"KIQ026\"].map({1: \"Yes\", 2: \"No\"})"
   ]
  },
  {
   "cell_type": "code",
   "execution_count": 115,
   "id": "6faec78a",
   "metadata": {},
   "outputs": [
    {
     "data": {
      "image/png": "[encoded data removed]",
      "text/plain": [
       "<Figure size 432x288 with 1 Axes>"
      ]
     },
     "metadata": {
      "needs_background": "light"
     },
     "output_type": "display_data"
    }
   ],
   "source": [
    "sns.boxplot(x=\"KIQ026\", y=\"RXDCOUNT\", data = Prescription_Medications)\n",
    "#plt.ylim(0, 30000)\n",
    "plt.xlabel('Kidney Stones')\n",
    "plt.ylabel('Number of Prescription')\n",
    "plt.title('Age Distribution by Kidney Stones')\n",
    "plt.show()"
   ]
  },
  {
   "cell_type": "code",
   "execution_count": 116,
   "id": "45d5802b",
   "metadata": {},
   "outputs": [
    {
     "data": {
      "text/plain": [
       "array([2, 1, 7, 9], dtype=int64)"
      ]
     },
     "execution_count": 116,
     "metadata": {},
     "output_type": "execute_result"
    }
   ],
   "source": [
    "df[\"SLQ050\"].dtypes\n",
    "df[\"SLQ050\"].unique()"
   ]
  },
  {
   "cell_type": "code",
   "execution_count": 117,
   "id": "a20df6da",
   "metadata": {},
   "outputs": [
    {
     "name": "stderr",
     "output_type": "stream",
     "text": [
      "C:\\Users\\tnguy\\AppData\\Local\\Temp\\ipykernel_25304\\3489406189.py:2: SettingWithCopyWarning: \n",
      "A value is trying to be set on a copy of a slice from a DataFrame.\n",
      "Try using .loc[row_indexer,col_indexer] = value instead\n",
      "\n",
      "See the caveats in the documentation: https://pandas.pydata.org/pandas-docs/stable/user_guide/indexing.html#returning-a-view-versus-a-copy\n",
      "  sleep_df[\"SLQ050\"] = df[\"SLQ050\"].map({1: \"Yes\", 2: \"No\", 7: \"Refused\", 9:\"Don't know\"})\n",
      "C:\\Users\\tnguy\\AppData\\Local\\Temp\\ipykernel_25304\\3489406189.py:3: SettingWithCopyWarning: \n",
      "A value is trying to be set on a copy of a slice from a DataFrame.\n",
      "Try using .loc[row_indexer,col_indexer] = value instead\n",
      "\n",
      "See the caveats in the documentation: https://pandas.pydata.org/pandas-docs/stable/user_guide/indexing.html#returning-a-view-versus-a-copy\n",
      "  sleep_df[\"KIQ026\"] = df[\"KIQ026\"].map({1: \"Yes\", 2: \"No\"})\n"
     ]
    },
    {
     "data": {
      "image/png": "[encoded data removed]",
      "text/plain": [
       "<Figure size 432x288 with 1 Axes>"
      ]
     },
     "metadata": {
      "needs_background": "light"
     },
     "output_type": "display_data"
    }
   ],
   "source": [
    "sleep_df = df[[\"SLQ050\",\"KIQ026\"]]\n",
    "sleep_df[\"SLQ050\"] = df[\"SLQ050\"].map({1: \"Yes\", 2: \"No\", 7: \"Refused\", 9:\"Don't know\"})\n",
    "sleep_df[\"KIQ026\"] = df[\"KIQ026\"].map({1: \"Yes\", 2: \"No\"})\n",
    "\n",
    "cross_tab = pd.crosstab(sleep_df[\"SLQ050\"], sleep_df[\"KIQ026\"], normalize='index')\n",
    "cross_tab.plot(kind='bar', stacked=False)\n",
    "\n",
    "plt.title(\"The proportion of Kidney stones for each description for Smoked at least 100 cigarettes in life\")\n",
    "plt.xlabel(\"Smoked at least 100 cigarettes in life\")\n",
    "plt.ylabel(\"Proportion of Kidney Stones\")\n",
    "plt.legend(title=\"Kidney Stones\")\n",
    "plt.show()\n"
   ]
  },
  {
   "cell_type": "code",
   "execution_count": null,
   "id": "5e6d69ee",
   "metadata": {},
   "outputs": [],
   "source": []
  },
  {
   "cell_type": "code",
   "execution_count": null,
   "id": "66fe2490",
   "metadata": {},
   "outputs": [],
   "source": []
  },
  {
   "cell_type": "code",
   "execution_count": null,
   "id": "65e073bf",
   "metadata": {},
   "outputs": [],
   "source": []
  }
 ],
 "metadata": {
  "kernelspec": {
   "display_name": "Python 3 (ipykernel)",
   "language": "python",
   "name": "python3"
  },
  "language_info": {
   "codemirror_mode": {
    "name": "ipython",
    "version": 3
   },
   "file_extension": ".py",
   "mimetype": "text/x-python",
   "name": "python",
   "nbconvert_exporter": "python",
   "pygments_lexer": "ipython3",
   "version": "3.9.12"
  }
 },
 "nbformat": 4,
 "nbformat_minor": 5
}
